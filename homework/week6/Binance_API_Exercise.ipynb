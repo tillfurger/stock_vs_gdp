{
 "cells": [
  {
   "cell_type": "code",
   "execution_count": 12,
   "metadata": {},
   "outputs": [],
   "source": [
    "import requests\n",
    "import datetime\n",
    "import json\n",
    "import pandas as pd"
   ]
  },
  {
   "cell_type": "code",
   "execution_count": 13,
   "metadata": {},
   "outputs": [],
   "source": [
    "# 1. What is the root URL?\n",
    "ROOT_URL = \"https://api.binance.com/\""
   ]
  },
  {
   "cell_type": "code",
   "execution_count": 14,
   "metadata": {},
   "outputs": [],
   "source": [
    "#2. What is the endpoint to retrieve klines (open-high-low-close data) for a specific cryptocurrency?\n",
    "endpoint= \"api/v3/klines\""
   ]
  },
  {
   "cell_type": "code",
   "execution_count": 22,
   "metadata": {},
   "outputs": [
    {
     "name": "stdout",
     "output_type": "stream",
     "text": [
      "1661983200.0\n"
     ]
    }
   ],
   "source": [
    "#convert date to unix time\n",
    "from datetime import timezone\n",
    "\n",
    "date = datetime.datetime(2022, 9, 1)\n",
    "unix_ts_utc = date.replace(tzinfo=timezone.utc).timestamp()\n",
    "unix_ts = date.timestamp()\n",
    "print(unix_ts)"
   ]
  },
  {
   "cell_type": "code",
   "execution_count": 28,
   "metadata": {},
   "outputs": [
    {
     "name": "stdout",
     "output_type": "stream",
     "text": [
      "https://api.binance.com/api/v3/klines?symbol=BTCUSDT&limit=75&interval=1h&startTime=1661983200\n"
     ]
    }
   ],
   "source": [
    "# 3. Specify a request string to retrieve 75 observations of klines data for BTCUSDT since 2022-09-01.\n",
    "# construct request URL\n",
    "req = \"{root_url}{endpoint}?symbol={symbol}USDT&limit={limit}&interval=1h&startTime={since}\" \\\n",
    "     .format(root_url=ROOT_URL,\n",
    "             endpoint=endpoint,\n",
    "             limit = 75,\n",
    "             symbol=\"BTC\",\n",
    "             since=1661983200)\n",
    "print(req)\n"
   ]
  },
  {
   "cell_type": "code",
   "execution_count": null,
   "metadata": {},
   "outputs": [],
   "source": []
  },
  {
   "cell_type": "code",
   "execution_count": null,
   "metadata": {},
   "outputs": [],
   "source": [
    "#4. Write a function (in Python, R or Julia) that retrieves 75 observations of klines data for a generic currency pair since a generic date. The function should take the currency pair and start date as input parameters."
   ]
  },
  {
   "cell_type": "code",
   "execution_count": 29,
   "metadata": {},
   "outputs": [
    {
     "name": "stdout",
     "output_type": "stream",
     "text": [
      "<Response [200]>\n"
     ]
    }
   ],
   "source": [
    "resp = requests.get(req)\n",
    "print(resp)"
   ]
  }
 ],
 "metadata": {
  "kernelspec": {
   "display_name": "Python 3.8.3",
   "language": "python",
   "name": "python3"
  },
  "language_info": {
   "codemirror_mode": {
    "name": "ipython",
    "version": 3
   },
   "file_extension": ".py",
   "mimetype": "text/x-python",
   "name": "python",
   "nbconvert_exporter": "python",
   "pygments_lexer": "ipython3",
   "version": "3.8.3"
  },
  "orig_nbformat": 4,
  "vscode": {
   "interpreter": {
    "hash": "40d3a090f54c6569ab1632332b64b2c03c39dcf918b08424e98f38b5ae0af88f"
   }
  }
 },
 "nbformat": 4,
 "nbformat_minor": 2
}
