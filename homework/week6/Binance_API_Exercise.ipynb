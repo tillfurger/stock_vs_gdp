{
 "cells": [
  {
   "cell_type": "code",
   "execution_count": 1,
   "metadata": {},
   "outputs": [],
   "source": [
    "import requests\n",
    "import datetime\n",
    "import json\n",
    "import pandas as pd"
   ]
  },
  {
   "cell_type": "code",
   "execution_count": 2,
   "metadata": {},
   "outputs": [],
   "source": [
    "# 1. What is the root URL?\n",
    "ROOT_URL = \"https://api.binance.com/\""
   ]
  },
  {
   "cell_type": "code",
   "execution_count": 3,
   "metadata": {},
   "outputs": [],
   "source": [
    "#2. What is the endpoint to retrieve klines (open-high-low-close data) for a specific cryptocurrency?\n",
    "endpoint= \"api/v3/klines\""
   ]
  },
  {
   "cell_type": "code",
   "execution_count": 4,
   "metadata": {},
   "outputs": [
    {
     "name": "stdout",
     "output_type": "stream",
     "text": [
      "1661983200000\n"
     ]
    }
   ],
   "source": [
    "#convert date to unix time\n",
    "from datetime import timezone\n",
    "\n",
    "date = datetime.datetime(2022, 9, 1)\n",
    "unix_ts_utc = date.replace(tzinfo=timezone.utc).timestamp()\n",
    "unix_ts = int(date.timestamp())\n",
    "# Binace requires dates in miliseconds, so multiply by 1000\n",
    "unix_ts = unix_ts*1000\n",
    "print(unix_ts)"
   ]
  },
  {
   "cell_type": "code",
   "execution_count": 5,
   "metadata": {},
   "outputs": [
    {
     "name": "stdout",
     "output_type": "stream",
     "text": [
      "https://api.binance.com/api/v3/klines?symbol=BTCUSDT&limit=75&interval=1h&startTime=1661983200000\n"
     ]
    }
   ],
   "source": [
    "# 3. Specify a request string to retrieve 75 observations of klines data for BTCUSDT since 2022-09-01.\n",
    "# construct request URL\n",
    "req = \"{root_url}{endpoint}?symbol={symbol}USDT&limit={limit}&interval=1h&startTime={since}\" \\\n",
    "     .format(root_url=ROOT_URL,\n",
    "             endpoint=endpoint,\n",
    "             limit = 75,\n",
    "             symbol=\"BTC\",\n",
    "             since=unix_ts)\n",
    "print(req)"
   ]
  },
  {
   "cell_type": "code",
   "execution_count": 6,
   "metadata": {},
   "outputs": [
    {
     "name": "stdout",
     "output_type": "stream",
     "text": [
      "<Response [200]>\n"
     ]
    }
   ],
   "source": [
    "# send request to the Binance server & receive a response\n",
    "resp = requests.get(req)\n",
    "print(resp)"
   ]
  },
  {
   "cell_type": "code",
   "execution_count": 7,
   "metadata": {},
   "outputs": [
    {
     "name": "stdout",
     "output_type": "stream",
     "text": [
      "      kline_open_time      open_price      high_price       low_price  \\\n",
      "0 2022-08-31 22:00:00  20280.54000000  20292.75000000  20085.70000000   \n",
      "1 2022-08-31 23:00:00  20155.00000000  20157.53000000  19966.00000000   \n",
      "2 2022-09-01 00:00:00  20048.44000000  20138.15000000  19917.01000000   \n",
      "3 2022-09-01 01:00:00  20064.43000000  20185.09000000  20051.22000000   \n",
      "4 2022-09-01 02:00:00  20127.45000000  20208.37000000  20069.35000000   \n",
      "\n",
      "      close_price          volume        kline_close_time  quote_asset_volume  \\\n",
      "0  20155.00000000   9926.63922000 2022-08-31 22:59:59.999  200115143.50616790   \n",
      "1  20050.02000000   8540.54148000 2022-08-31 23:59:59.999  171113575.27829430   \n",
      "2  20064.43000000  11108.70225000 2022-09-01 00:59:59.999  222708634.02234470   \n",
      "3  20127.45000000   7942.65870000 2022-09-01 01:59:59.999  159810609.65936390   \n",
      "4  20118.09000000   7256.77429000 2022-09-01 02:59:59.999  146240287.43752270   \n",
      "\n",
      "   number_of_trades Taker_buy_base_asset_volume taker_buy_quote_asset_volume  \\\n",
      "0            214212               5043.89695000           101690863.31618200   \n",
      "1            210227               4306.62313000            86282926.65202430   \n",
      "2            279177               5395.01867000           108163009.75153420   \n",
      "3            200276               3931.12427000            79102439.38559270   \n",
      "4            180778               3499.98625000            70539705.17156280   \n",
      "\n",
      "  unused_field_ignore  \n",
      "0                   0  \n",
      "1                   0  \n",
      "2                   0  \n",
      "3                   0  \n",
      "4                   0  \n",
      "(75, 12)\n"
     ]
    }
   ],
   "source": [
    "# convert to DataFrame\n",
    "# to do's: convert unix time variables to datetime variables\n",
    "# weirdly enough the response throws back klines from 2017, why is that? dates seems to be correctly specified above\n",
    "# EDIT: Binance requires milisecons for the timestamp, so unix_ts above is multiplied by 1000 to solve the problem\n",
    "data = pd.DataFrame.from_records(\n",
    "    resp.json(),\n",
    "    columns=[\"kline_open_time\", \"open_price\", \"high_price\", \"low_price\", \"close_price\", \"volume\", \"kline_close_time\", \"quote_asset_volume\", \"number_of_trades\", \"Taker_buy_base_asset_volume\", \"taker_buy_quote_asset_volume\", \"unused_field_ignore\"]\n",
    "\n",
    ")\n",
    "# Convert unix timestamps to human-readable dates\n",
    "data[\"kline_open_time\"] = pd.to_datetime(data.kline_open_time, unit=\"ms\", origin=\"unix\")\n",
    "data[\"kline_close_time\"] = pd.to_datetime(data.kline_close_time, unit=\"ms\", origin=\"unix\")\n",
    "\n",
    "print(data.head())\n",
    "print(data.shape)"
   ]
  },
  {
   "cell_type": "code",
   "execution_count": 8,
   "metadata": {},
   "outputs": [],
   "source": [
    "# 4. Write a function (in Python, R or Julia) that retrieves 75 observations of klines data for a generic\n",
    "# currency pair since a generic date.The function should take the currency pair and start date as input parameters.\n",
    "def get_klines_data_binance(startTime, symbol=\"BTCUSDT\", invertal=\"1d\", limit=75, to_csv=False):\n",
    "    \"\"\"\n",
    "    Function to get klines data from binance for a specified symbol. \n",
    "    Parameters:\n",
    "    symbol is the ID of the pair of crypto/currency desired, default us BTCUSDT\n",
    "    interval is the periodicity of the wanted data, default is daily\n",
    "    startTime is the date from which we want our data to start, sould be a unix timestamp in miliseconds\n",
    "    limit is the number of observations we want to get\n",
    "    to_csv logical to know if data should be written into a csv, default is False\n",
    "    \"\"\"\n",
    "    # Verify that startTime is given\n",
    "    try:\n",
    "        assert isinstance(startTime, (str, int)), \"startTime must be an integer or a string\"\n",
    "    except:\n",
    "        print(\"You must specify a startTime\")\n",
    "    \n",
    "    # Define the query\n",
    "    req = \"{root_url}{endpoint}?symbol={symbol}&limit={limit}&interval=1h&startTime={since}\" \\\n",
    "     .format(root_url='https://api.binance.com/',\n",
    "             endpoint='api/v3/klines',\n",
    "             limit = limit,\n",
    "             symbol=symbol,\n",
    "             since=startTime)\n",
    "    # Call the API\n",
    "    resp = requests.get(req)\n",
    "    # Check if the query was succesful\n",
    "    assert resp.status_code == 200, \"Error in the query, check parameters\"\n",
    "    \n",
    "    # Finally, parse retrieved data into a data frame.\n",
    "    data = pd.DataFrame.from_records(\n",
    "        resp.json(),\n",
    "        columns=[\"kline_open_time\", \"open_price\",\n",
    "                 \"high_price\", \"low_price\", \"close_price\",\n",
    "                 \"volume\", \"kline_close_time\",\n",
    "                 \"quote_asset_volume\", \"number_of_trades\",\n",
    "                 \"Taker_buy_base_asset_volume\",\n",
    "                 \"taker_buy_quote_asset_volume\",\n",
    "                 \"unused_field_ignore\"]\n",
    "    )\n",
    "    # Drop unused field\n",
    "    data.drop(\"unused_field_ignore\", axis=1, inplace=True)\n",
    "    # Convert unix timestamps to human-readable dates\n",
    "    data[\"kline_open_time\"] = pd.to_datetime(data.kline_open_time, unit=\"ms\", origin=\"unix\")\n",
    "    data[\"kline_close_time\"] = pd.to_datetime(data.kline_close_time, unit=\"ms\", origin=\"unix\")\n",
    "    \n",
    "    if to_csv:\n",
    "        data.to_csv(\"query_result.csv\")\n",
    "    \n",
    "    return data"
   ]
  },
  {
   "cell_type": "markdown",
   "metadata": {},
   "source": [
    "Test the function:"
   ]
  },
  {
   "cell_type": "code",
   "execution_count": 9,
   "metadata": {},
   "outputs": [
    {
     "name": "stdout",
     "output_type": "stream",
     "text": [
      "      kline_open_time      open_price      high_price       low_price  \\\n",
      "0 2022-08-31 22:00:00  20280.54000000  20292.75000000  20085.70000000   \n",
      "1 2022-08-31 23:00:00  20155.00000000  20157.53000000  19966.00000000   \n",
      "2 2022-09-01 00:00:00  20048.44000000  20138.15000000  19917.01000000   \n",
      "3 2022-09-01 01:00:00  20064.43000000  20185.09000000  20051.22000000   \n",
      "4 2022-09-01 02:00:00  20127.45000000  20208.37000000  20069.35000000   \n",
      "\n",
      "      close_price          volume        kline_close_time  quote_asset_volume  \\\n",
      "0  20155.00000000   9926.63922000 2022-08-31 22:59:59.999  200115143.50616790   \n",
      "1  20050.02000000   8540.54148000 2022-08-31 23:59:59.999  171113575.27829430   \n",
      "2  20064.43000000  11108.70225000 2022-09-01 00:59:59.999  222708634.02234470   \n",
      "3  20127.45000000   7942.65870000 2022-09-01 01:59:59.999  159810609.65936390   \n",
      "4  20118.09000000   7256.77429000 2022-09-01 02:59:59.999  146240287.43752270   \n",
      "\n",
      "   number_of_trades Taker_buy_base_asset_volume taker_buy_quote_asset_volume  \n",
      "0            214212               5043.89695000           101690863.31618200  \n",
      "1            210227               4306.62313000            86282926.65202430  \n",
      "2            279177               5395.01867000           108163009.75153420  \n",
      "3            200276               3931.12427000            79102439.38559270  \n",
      "4            180778               3499.98625000            70539705.17156280  \n",
      "(75, 11)\n"
     ]
    }
   ],
   "source": [
    "data_btcusd = get_klines_data_binance(startTime=unix_ts, symbol=\"BTCUSDT\")\n",
    "print(data_btcusd.head())\n",
    "print(data_btcusd.shape)"
   ]
  }
 ],
 "metadata": {
  "kernelspec": {
   "display_name": "Python 3 (ipykernel)",
   "language": "python",
   "name": "python3"
  },
  "language_info": {
   "codemirror_mode": {
    "name": "ipython",
    "version": 3
   },
   "file_extension": ".py",
   "mimetype": "text/x-python",
   "name": "python",
   "nbconvert_exporter": "python",
   "pygments_lexer": "ipython3",
   "version": "3.8.3"
  },
  "vscode": {
   "interpreter": {
    "hash": "40d3a090f54c6569ab1632332b64b2c03c39dcf918b08424e98f38b5ae0af88f"
   }
  }
 },
 "nbformat": 4,
 "nbformat_minor": 2
}
