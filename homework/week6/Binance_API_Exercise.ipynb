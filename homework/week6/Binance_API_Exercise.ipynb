{
 "cells": [
  {
   "cell_type": "code",
   "execution_count": 12,
   "metadata": {},
   "outputs": [],
   "source": [
    "import requests\n",
    "import datetime\n",
    "import json\n",
    "import pandas as pd"
   ]
  },
  {
   "cell_type": "code",
   "execution_count": 13,
   "metadata": {},
   "outputs": [],
   "source": [
    "# 1. What is the root URL?\n",
    "ROOT_URL = \"https://api.binance.com/\""
   ]
  },
  {
   "cell_type": "code",
   "execution_count": 14,
   "metadata": {},
   "outputs": [],
   "source": [
    "#2. What is the endpoint to retrieve klines (open-high-low-close data) for a specific cryptocurrency?\n",
    "endpoint= \"api/v3/klines\""
   ]
  },
  {
   "cell_type": "code",
   "execution_count": 35,
   "metadata": {},
   "outputs": [
    {
     "name": "stdout",
     "output_type": "stream",
     "text": [
      "1661983200\n"
     ]
    }
   ],
   "source": [
    "#convert date to unix time\n",
    "from datetime import timezone\n",
    "\n",
    "date = datetime.datetime(2022, 9, 1)\n",
    "unix_ts_utc = date.replace(tzinfo=timezone.utc).timestamp()\n",
    "unix_ts = int(date.timestamp())\n",
    "print(unix_ts)"
   ]
  },
  {
   "cell_type": "code",
   "execution_count": 36,
   "metadata": {},
   "outputs": [
    {
     "name": "stdout",
     "output_type": "stream",
     "text": [
      "https://api.binance.com/api/v3/klines?symbol=BTCUSDT&limit=75&interval=1h&startTime=1661983200\n"
     ]
    }
   ],
   "source": [
    "# 3. Specify a request string to retrieve 75 observations of klines data for BTCUSDT since 2022-09-01.\n",
    "# construct request URL\n",
    "req = \"{root_url}{endpoint}?symbol={symbol}USDT&limit={limit}&interval=1h&startTime={since}\" \\\n",
    "     .format(root_url=ROOT_URL,\n",
    "             endpoint=endpoint,\n",
    "             limit = 75,\n",
    "             symbol=\"BTC\",\n",
    "             since=unix_ts)\n",
    "print(req)\n"
   ]
  },
  {
   "cell_type": "code",
   "execution_count": 41,
   "metadata": {},
   "outputs": [
    {
     "name": "stdout",
     "output_type": "stream",
     "text": [
      "<Response [200]>\n"
     ]
    }
   ],
   "source": [
    "# send request to the Binance server & receive a response\n",
    "resp = requests.get(req)\n",
    "print(resp)"
   ]
  },
  {
   "cell_type": "code",
   "execution_count": 43,
   "metadata": {},
   "outputs": [
    {
     "ename": "TypeError",
     "evalue": "list indices must be integers or slices, not str",
     "output_type": "error",
     "traceback": [
      "\u001b[0;31m---------------------------------------------------------------------------\u001b[0m",
      "\u001b[0;31mTypeError\u001b[0m                                 Traceback (most recent call last)",
      "\u001b[0;32m<ipython-input-43-9d61f11d1eba>\u001b[0m in \u001b[0;36m<module>\u001b[0;34m\u001b[0m\n\u001b[1;32m      1\u001b[0m \u001b[0;31m# convert to DataFrame\u001b[0m\u001b[0;34m\u001b[0m\u001b[0;34m\u001b[0m\u001b[0;34m\u001b[0m\u001b[0m\n\u001b[1;32m      2\u001b[0m data = pd.DataFrame.from_records(\n\u001b[0;32m----> 3\u001b[0;31m     \u001b[0mresp\u001b[0m\u001b[0;34m.\u001b[0m\u001b[0mjson\u001b[0m\u001b[0;34m(\u001b[0m\u001b[0;34m)\u001b[0m\u001b[0;34m[\u001b[0m\u001b[0;34m\"result\"\u001b[0m\u001b[0;34m]\u001b[0m\u001b[0;34m,\u001b[0m\u001b[0;34m\u001b[0m\u001b[0;34m\u001b[0m\u001b[0m\n\u001b[0m\u001b[1;32m      4\u001b[0m     \u001b[0mcolumns\u001b[0m\u001b[0;34m=\u001b[0m\u001b[0;34m[\u001b[0m\u001b[0;34m\"kline_open_time\"\u001b[0m\u001b[0;34m,\u001b[0m \u001b[0;34m\"open_price\"\u001b[0m\u001b[0;34m,\u001b[0m \u001b[0;34m\"high_price\"\u001b[0m\u001b[0;34m,\u001b[0m \u001b[0;34m\"low_price\"\u001b[0m\u001b[0;34m,\u001b[0m \u001b[0;34m\"close_price\"\u001b[0m\u001b[0;34m,\u001b[0m \u001b[0;34m\"volume\"\u001b[0m\u001b[0;34m,\u001b[0m \u001b[0;34m\"kline_close_time\"\u001b[0m\u001b[0;34m,\u001b[0m \u001b[0;34m\"quote_asset_volume\"\u001b[0m\u001b[0;34m,\u001b[0m \u001b[0;34m\"number_of_trades\"\u001b[0m\u001b[0;34m,\u001b[0m \u001b[0;34m\"Taker_buy_base_asset_volume\"\u001b[0m\u001b[0;34m,\u001b[0m \u001b[0;34m\"taker_buy_quote_asset_volume\"\u001b[0m\u001b[0;34m,\u001b[0m \u001b[0;34m\"unused_field_ignore\"\u001b[0m\u001b[0;34m]\u001b[0m\u001b[0;34m\u001b[0m\u001b[0;34m\u001b[0m\u001b[0m\n\u001b[1;32m      5\u001b[0m )\n",
      "\u001b[0;31mTypeError\u001b[0m: list indices must be integers or slices, not str"
     ]
    }
   ],
   "source": [
    "# convert to DataFrame\n",
    "# to do's: convert unix time variables to datetime variables\n",
    "# weirdly enough the response throws back klines from 2017, why is that? dates seems to be correctly specified above\n",
    "data = pd.DataFrame.from_records(\n",
    "    resp.json(),\n",
    "    columns=[\"kline_open_time\", \"open_price\", \"high_price\", \"low_price\", \"close_price\", \"volume\", \"kline_close_time\", \"quote_asset_volume\", \"number_of_trades\", \"Taker_buy_base_asset_volume\", \"taker_buy_quote_asset_volume\", \"unused_field_ignore\"]\n",
    "\n",
    ")\n",
    "print(data)"
   ]
  },
  {
   "cell_type": "code",
   "execution_count": 51,
   "metadata": {},
   "outputs": [],
   "source": [
    "#4. Write a function (in Python, R or Julia) that retrieves 75 observations of klines data for a generic currency pair since a generic date. The function should take the currency pair and start date as input parameters.\n",
    "\n"
   ]
  }
 ],
 "metadata": {
  "kernelspec": {
   "display_name": "Python 3.8.3",
   "language": "python",
   "name": "python3"
  },
  "language_info": {
   "codemirror_mode": {
    "name": "ipython",
    "version": 3
   },
   "file_extension": ".py",
   "mimetype": "text/x-python",
   "name": "python",
   "nbconvert_exporter": "python",
   "pygments_lexer": "ipython3",
   "version": "3.8.3"
  },
  "orig_nbformat": 4,
  "vscode": {
   "interpreter": {
    "hash": "40d3a090f54c6569ab1632332b64b2c03c39dcf918b08424e98f38b5ae0af88f"
   }
  }
 },
 "nbformat": 4,
 "nbformat_minor": 2
}
