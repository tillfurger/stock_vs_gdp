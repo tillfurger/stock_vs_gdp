{
 "cells": [
  {
   "cell_type": "code",
   "execution_count": 1,
   "metadata": {},
   "outputs": [],
   "source": [
    "import requests\n",
    "import datetime\n",
    "import json\n",
    "import pandas as pd"
   ]
  },
  {
   "cell_type": "code",
   "execution_count": 2,
   "metadata": {},
   "outputs": [],
   "source": [
    "#1. Read how authentication with API keys works. Create an account and obtain your own key\n",
    "API_Key= \"6de211fe3567be1f384a732ac445c873\""
   ]
  },
  {
   "cell_type": "code",
   "execution_count": 3,
   "metadata": {},
   "outputs": [],
   "source": [
    "# 2. What is the root URL?\n",
    "ROOT_URL = \"https://api.stlouisfed.org/\""
   ]
  },
  {
   "cell_type": "code",
   "execution_count": 5,
   "metadata": {},
   "outputs": [],
   "source": [
    "# 3. What is the endpoint to retrieve time series observations?\n",
    "endpoint= \"fred/series\""
   ]
  },
  {
   "cell_type": "code",
   "execution_count": 10,
   "metadata": {},
   "outputs": [
    {
     "name": "stdout",
     "output_type": "stream",
     "text": [
      "https://api.stlouisfed.org/fred/series?series_id=UNRATE&api_key=abc123&realtime_start=2020-01-01&file_type=json\n"
     ]
    }
   ],
   "source": [
    "# 4.Construct a query string to retrieve the series of the monthly unemployment rate (seasonally adjusted) since 2020-01. Use the fake API key abc123 in the query string.\n",
    "\n",
    "req = \"{root_url}{endpoint}?series_id={series_id}&api_key={api_key}&realtime_start={realtime_start}&file_type={file_type}\" \\\n",
    "     .format(root_url=ROOT_URL,\n",
    "             endpoint=endpoint,\n",
    "             series_id = \"UNRATE\",\n",
    "             realtime_start=\"2020-01-01\",\n",
    "             api_key=\"abc123\",\n",
    "             file_type=\"json\")\n",
    "print(req)\n",
    "\n"
   ]
  }
 ],
 "metadata": {
  "kernelspec": {
   "display_name": "Python 3.8.3",
   "language": "python",
   "name": "python3"
  },
  "language_info": {
   "codemirror_mode": {
    "name": "ipython",
    "version": 3
   },
   "file_extension": ".py",
   "mimetype": "text/x-python",
   "name": "python",
   "nbconvert_exporter": "python",
   "pygments_lexer": "ipython3",
   "version": "3.8.3"
  },
  "orig_nbformat": 4,
  "vscode": {
   "interpreter": {
    "hash": "40d3a090f54c6569ab1632332b64b2c03c39dcf918b08424e98f38b5ae0af88f"
   }
  }
 },
 "nbformat": 4,
 "nbformat_minor": 2
}
